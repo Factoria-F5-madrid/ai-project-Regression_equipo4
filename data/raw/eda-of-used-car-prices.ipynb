{
 "cells": [
  {
   "cell_type": "code",
   "execution_count": 1,
   "id": "060887a1",
   "metadata": {
    "_cell_guid": "b1076dfc-b9ad-4769-8c92-a6c4dae69d19",
    "_uuid": "8f2839f25d086af736a60e9eeb907d3b93b6e0e5",
    "execution": {
     "iopub.execute_input": "2025-09-19T10:16:57.267099Z",
     "iopub.status.busy": "2025-09-19T10:16:57.266751Z",
     "iopub.status.idle": "2025-09-19T10:16:59.458045Z",
     "shell.execute_reply": "2025-09-19T10:16:59.456692Z"
    },
    "papermill": {
     "duration": 2.196604,
     "end_time": "2025-09-19T10:16:59.459949",
     "exception": false,
     "start_time": "2025-09-19T10:16:57.263345",
     "status": "completed"
    },
    "tags": []
   },
   "outputs": [
    {
     "ename": "",
     "evalue": "",
     "output_type": "error",
     "traceback": [
      "\u001b[1;31mNo se pudo iniciar el kernel porque el entorno de Python \"Python\" ya no está disponible. Considere la posibilidad de seleccionar otro kernel o de actualizar la lista de entornos de Python."
     ]
    }
   ],
   "source": [
    "import numpy as np # linear algebra\n",
    "import pandas as pd # data processing, CSV file I/O (e.g. pd.read_csv)\n"
   ]
  },
  {
   "cell_type": "code",
   "execution_count": null,
   "id": "13545db1",
   "metadata": {
    "execution": {
     "iopub.execute_input": "2025-09-19T10:16:59.465742Z",
     "iopub.status.busy": "2025-09-19T10:16:59.465230Z",
     "iopub.status.idle": "2025-09-19T10:17:00.386423Z",
     "shell.execute_reply": "2025-09-19T10:17:00.385046Z"
    },
    "papermill": {
     "duration": 0.925914,
     "end_time": "2025-09-19T10:17:00.388128",
     "exception": false,
     "start_time": "2025-09-19T10:16:59.462214",
     "status": "completed"
    },
    "tags": []
   },
   "outputs": [],
   "source": [
    "df = pd.read_csv('./datasets/train.csv')\n",
    "# Overview\n",
    "print('Columns:', list(df.columns))\n",
    "print('Info:')\n",
    "df.info()\n",
    "df.head()"
   ]
  }
 ],
 "metadata": {
  "kaggle": {
   "accelerator": "none",
   "dataSources": [
    {
     "databundleVersionId": 9057646,
     "sourceId": 76728,
     "sourceType": "competition"
    }
   ],
   "dockerImageVersionId": 31089,
   "isGpuEnabled": false,
   "isInternetEnabled": true,
   "language": "python",
   "sourceType": "notebook"
  },
  "kernelspec": {
   "display_name": "Python 3",
   "language": "python",
   "name": "python3"
  },
  "language_info": {
   "codemirror_mode": {
    "name": "ipython",
    "version": 3
   },
   "file_extension": ".py",
   "mimetype": "text/x-python",
   "name": "python",
   "nbconvert_exporter": "python",
   "pygments_lexer": "ipython3",
   "version": "3.9.6"
  },
  "papermill": {
   "default_parameters": {},
   "duration": 9.775794,
   "end_time": "2025-09-19T10:17:01.011402",
   "environment_variables": {},
   "exception": null,
   "input_path": "__notebook__.ipynb",
   "output_path": "__notebook__.ipynb",
   "parameters": {},
   "start_time": "2025-09-19T10:16:51.235608",
   "version": "2.6.0"
  }
 },
 "nbformat": 4,
 "nbformat_minor": 5
}
