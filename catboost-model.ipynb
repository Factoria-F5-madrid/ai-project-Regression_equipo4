{
 "cells": [
  {
   "cell_type": "code",
   "execution_count": null,
   "id": "541f5866",
   "metadata": {},
   "outputs": [],
   "source": [
    "import numpy as np\n",
    "import pandas as pd \n",
    "import matplotlib.pyplot as plt\n",
    "import missingno as msno\n",
    "import gc\n",
    "from dython.nominal import associations\n",
    "import seaborn as sns\n",
    "from datetime import datetime\n",
    "from sklearn.preprocessing import LabelEncoder,OrdinalEncoder\n",
    "from sklearn.model_selection import train_test_split\n",
    "from sklearn.metrics import mean_squared_error, r2_score\n",
    "from catboost import CatBoostRegressor"
   ]
  },
  {
   "cell_type": "code",
   "execution_count": null,
   "id": "1daeba92",
   "metadata": {},
   "outputs": [],
   "source": [
    "# load data\n",
    "train_df = pd.read_csv('./datasets/train.csv')\n",
    "\n",
    "# remove 'id' column from both training\n",
    "train_df.drop('id',inplace=True,axis=1)\n"
   ]
  },
  {
   "cell_type": "code",
   "execution_count": null,
   "id": "c85fde0f",
   "metadata": {},
   "outputs": [],
   "source": [
    "categorical_columns = train_df.select_dtypes(include=['object']).columns\n",
    "unique_values = {col: train_df[col].nunique() for col in categorical_columns}\n",
    "for col, unique_count in unique_values.items():\n",
    "    print(f\"{col}: {unique_count} unique values\")\n",
    "    \n",
    "gc.collect()"
   ]
  },
  {
   "cell_type": "code",
   "execution_count": null,
   "id": "50a84f7f",
   "metadata": {},
   "outputs": [],
   "source": [
    "# matriz de correlacion incluyendo variables categoricas\n",
    "def matriz_correlacion_categoricas(df):\n",
    "    associations_df = associations(train_df, nominal_columns=categorical_columns.tolist(), plot = False)\n",
    "    corr_matrix = associations_df['corr']\n",
    "    plt.figure(figsize=(15, 10))\n",
    "    plt.title('Correlation Matrix Including Categorical Variables', fontsize=16)\n",
    "    sns.heatmap(corr_matrix, annot=True, fmt=\".2f\", cmap='coolwarm', cbar=True, square=True, linewidths=.5)\n",
    "    plt.show()"
   ]
  },
  {
   "cell_type": "code",
   "execution_count": null,
   "id": "822c5d18",
   "metadata": {},
   "outputs": [],
   "source": [
    "matriz_correlacion_categoricas(train_df)"
   ]
  },
  {
   "cell_type": "code",
   "execution_count": null,
   "id": "c1c6e759",
   "metadata": {},
   "outputs": [],
   "source": [
    "# Feature Engineering\n",
    "\n",
    "def extract_horsepower(engine):\n",
    "    ''' Extracts horsepower from engine string'''\n",
    "    try:\n",
    "        return float(engine.split('HP')[0])\n",
    "    except:\n",
    "        return None\n",
    "    \n",
    "def extract_engine_size(engine):\n",
    "    ''' Extracts engine size from engine string'''\n",
    "    try:\n",
    "        return float(engine.split(' ')[1].replace('L', ''))\n",
    "    except:\n",
    "        return None\n",
    "        \n",
    "        \n",
    "def feature_engineering(df_clean):\n",
    "    \n",
    "    current_year = datetime.now().year\n",
    "\n",
    "    df_clean['age'] = current_year - df_clean['model_year']\n",
    "    df_clean['milage_per_year'] = df_clean['milage']/df_clean['age']\n",
    "\n",
    "    df_clean['horsepower'] = df_clean['engine'].apply(extract_horsepower)\n",
    "    df_clean['engine_size'] = df_clean['engine'].apply(extract_engine_size)\n",
    "    df_clean['power_to_weight_ratio'] = df_clean['horsepower']/df_clean['engine_size']\n",
    "\n",
    "    luxury_brands =  ['Mercedes-Benz', 'BMW', 'Audi', 'Porsche', 'Land', \n",
    "                    'Lexus', 'Jaguar', 'Bentley', 'Maserati', 'Lamborghini', \n",
    "                    'Rolls-Royce', 'Ferrari', 'McLaren', 'Aston', 'Maybach']\n",
    "    #df_clean['Is_Luxury_Brand'] = df_clean['brand'].apply(lambda x: 1 if x in luxury_brands else 0)\n",
    "\n",
    "    #df_clean['Accident_Impact'] = df_clean.apply(lambda x: 1 if x['accident'] == 1 and x['clean_title'] == 0 else 0, axis=1)\n",
    "    \n",
    "    return df_clean"
   ]
  },
  {
   "cell_type": "code",
   "execution_count": null,
   "id": "dd09c51b",
   "metadata": {},
   "outputs": [],
   "source": [
    "\n",
    "# Apply feature engineering in the training set\n",
    "feature_engineering(train_df)\n",
    "train_df = train_df.dropna().reset_index(drop=True)\n",
    "train_df = train_df.drop(['model_year','engine', 'clean_title'],axis=1)\n",
    "train_df.head()"
   ]
  },
  {
   "cell_type": "code",
   "execution_count": null,
   "id": "65735982",
   "metadata": {},
   "outputs": [],
   "source": [
    "#matriz_correlacion_categoricas(train_df)"
   ]
  },
  {
   "cell_type": "code",
   "execution_count": null,
   "id": "201614b8",
   "metadata": {},
   "outputs": [],
   "source": [
    "train_df.columns"
   ]
  },
  {
   "cell_type": "code",
   "execution_count": null,
   "id": "42a4bb73",
   "metadata": {},
   "outputs": [],
   "source": [
    "\n",
    "\n",
    "# filtrar outliers en price\n",
    "\n",
    "def filtrar_outliers_price(df, col='price', factor=1.5):\n",
    "    Q1 = df[col].quantile(0.25)\n",
    "    Q3 = df[col].quantile(0.75)\n",
    "    IQR = Q3 - Q1\n",
    "    limite_inf = Q1 - factor * IQR\n",
    "    limite_sup = Q3 + factor * IQR\n",
    "    df_filtrado = df[(df[col] >= limite_inf) & (df[col] <= limite_sup)].reset_index(drop=True)\n",
    "    print(f\"Filtrado: {len(df) - len(df_filtrado)} filas eliminadas ({100*(1 - len(df_filtrado)/len(df)):.2f}%)\")\n",
    "    return df_filtrado\n",
    "\n",
    "train_df = filtrar_outliers_price(train_df, col='price', factor=1.5)\n",
    "\n",
    "\n",
    "# Crear columna 'coches_ultralujo'\n",
    "\n",
    "train_df['coches_ultralujo'] = np.where(train_df['price'] > 150000, 'ultralujo', 'normal')\n",
    "\n",
    "# separar features y target\n",
    "y = train_df['price']\n",
    "X = train_df.drop(columns=['price'])\n",
    "\n",
    "# Detectar columnas categóricas\n",
    "categorical_cols = X.select_dtypes(include=['object']).columns.tolist()\n",
    "\n",
    "\n",
    "\n",
    "X_train, X_test, y_train, y_test = train_test_split(\n",
    "    X, y, test_size=0.2, random_state=42\n",
    ")\n",
    "\n",
    "\n",
    "catboost_model = CatBoostRegressor(\n",
    "    iterations=1500,\n",
    "    learning_rate=0.07,\n",
    "    depth=4,\n",
    "    eval_metric='RMSE',\n",
    "    random_seed=42,\n",
    "    verbose=100\n",
    ")\n",
    "\n",
    "catboost_model.fit(\n",
    "    X_train, y_train,\n",
    "    cat_features=categorical_cols,\n",
    "    eval_set=(X_test, y_test)\n",
    ")\n",
    "\n",
    "#predicciones y metricas\n",
    "\n",
    "y_pred_train = catboost_model.predict(X_train)\n",
    "y_pred_test = catboost_model.predict(X_test)\n",
    "\n",
    "rmse_train = np.sqrt(mean_squared_error(y_train, y_pred_train))\n",
    "rmse_test = np.sqrt(mean_squared_error(y_test, y_pred_test))\n",
    "\n",
    "r2_train = r2_score(y_train, y_pred_train)\n",
    "r2_test = r2_score(y_test, y_pred_test)\n",
    "\n",
    "overfitting_pct = (rmse_test - rmse_train) / rmse_train * 100\n",
    "\n",
    "print(f\"RMSE Train: {rmse_train:.2f} | R2 Train: {r2_train:.2f}\")\n",
    "print(f\"RMSE Test : {rmse_test:.2f} | R2 Test : {r2_test:.2f}\")\n",
    "print(f\"Overfitting relativo: {overfitting_pct:.2f}%\")\n",
    "\n",
    "\n",
    "\n",
    "# medir outfitting\n",
    "rmse_train = catboost_model.get_best_score()['learn']['RMSE']\n",
    "rmse_test = catboost_model.get_best_score()['validation']['RMSE']\n",
    "\n",
    "overfitting_pct = (rmse_test - rmse_train) / rmse_train * 100\n",
    "print(f\"Overfitting relativo: {overfitting_pct:.2f}%\")\n"
   ]
  },
  {
   "cell_type": "markdown",
   "id": "01ddc3bd",
   "metadata": {},
   "source": []
  }
 ],
 "metadata": {
  "kernelspec": {
   "display_name": "venv",
   "language": "python",
   "name": "python3"
  },
  "language_info": {
   "codemirror_mode": {
    "name": "ipython",
    "version": 3
   },
   "file_extension": ".py",
   "mimetype": "text/x-python",
   "name": "python",
   "nbconvert_exporter": "python",
   "pygments_lexer": "ipython3",
   "version": "3.12.2"
  }
 },
 "nbformat": 4,
 "nbformat_minor": 5
}
